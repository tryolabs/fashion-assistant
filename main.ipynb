{
 "cells": [
  {
   "cell_type": "code",
   "execution_count": null,
   "id": "ecb819b5",
   "metadata": {},
   "outputs": [],
   "source": [
    "!pip -q install llama-index python-dotenv llama-hub pyowm deeplake"
   ]
  },
  {
   "cell_type": "code",
   "execution_count": null,
   "id": "61216b09",
   "metadata": {},
   "outputs": [],
   "source": [
    "!rm -rf shopping-assistant/\n",
    "!rm -rf src/\n",
    "!rm -rf assets/\n",
    "!git clone https://github.com/tryolabs/shopping-assistant && mv shopping-assistant/src . && mv shopping-assistant/assets ."
   ]
  },
  {
   "cell_type": "code",
   "execution_count": null,
   "id": "ec0ef91d",
   "metadata": {},
   "outputs": [],
   "source": [
    "import os\n",
    "from getpass import getpass\n",
    "\n",
    "def get_and_set_env(name):\n",
    "\n",
    "  secret = getpass(f\"Enter {name}\")\n",
    "  os.environ[name] = secret\n",
    "\n",
    "\n",
    "os.environ[\"ACTIVELOOP_DATASET_TEXT\"] = \"hub://genai360/walmart-descriptions\"\n",
    "os.environ[\"ACTIVELOOP_DATASET_IMG\"] = \"hub://genai360/walmart-images\""
   ]
  },
  {
   "cell_type": "code",
   "execution_count": null,
   "id": "0381869c",
   "metadata": {},
   "outputs": [],
   "source": [
    "get_and_set_env(\"OPENAI_API_KEY\")"
   ]
  },
  {
   "cell_type": "code",
   "execution_count": null,
   "id": "fc4efd95",
   "metadata": {},
   "outputs": [],
   "source": [
    "get_and_set_env(\"OPEN_WEATHER_MAP_KEY\")"
   ]
  },
  {
   "cell_type": "code",
   "execution_count": 1,
   "id": "e5dc8cbd",
   "metadata": {},
   "outputs": [
    {
     "name": "stderr",
     "output_type": "stream",
     "text": [
      "/Users/rebelde/workspace/activeloop-course/.venv/lib/python3.11/site-packages/deeplake/util/check_latest_version.py:32: UserWarning: A newer version of deeplake (3.8.12) is available. It's recommended that you update to the latest version using `pip install -U deeplake`.\n",
      "  warnings.warn(\n"
     ]
    },
    {
     "name": "stdout",
     "output_type": "stream",
     "text": [
      "Deep Lake Dataset in hub://genai360/walmart-descriptions already exists, loading from the storage\n"
     ]
    }
   ],
   "source": [
    "import shutil\n",
    "import logging\n",
    "import re\n",
    "import urllib.parse\n",
    "from typing import List, Tuple\n",
    "import gradio as gr\n",
    "\n",
    "from src.main import agent, clean_input_image, INPUT_IMAGE_DIR\n"
   ]
  },
  {
   "cell_type": "code",
   "execution_count": 2,
   "id": "d1863530",
   "metadata": {},
   "outputs": [],
   "source": [
    "reg = re.compile(r'[0-9A-Z]{12}')"
   ]
  },
  {
   "cell_type": "code",
   "execution_count": 3,
   "id": "fd53a724",
   "metadata": {},
   "outputs": [],
   "source": [
    "#\n",
    "# Event handlers\n",
    "#\n",
    "def handle_user_message(user_message, history):\n",
    "    \"\"\"Handle the user submitted message. Clear message box, and append\n",
    "    to the history.\"\"\"\n",
    "    return \"\", history + [(user_message, \"\")]"
   ]
  },
  {
   "cell_type": "code",
   "execution_count": 4,
   "id": "0a1b09dc",
   "metadata": {},
   "outputs": [],
   "source": [
    "def handle_image(image, history):\n",
    "    \"\"\"Handle uploaded image. Add it to the chat history\"\"\"\n",
    "\n",
    "    path = os.path.join(INPUT_IMAGE_DIR, os.path.basename(image.name))\n",
    "    shutil.copyfile(image.name, path)    \n",
    "    message = \"I just uploaded the image\"\n",
    "\n",
    "    history = history + [(message, \" \")]\n",
    "    return history"
   ]
  },
  {
   "cell_type": "code",
   "execution_count": 5,
   "id": "47566001",
   "metadata": {},
   "outputs": [],
   "source": [
    "def generate_response(chat_history: List[Tuple[str, str]]) -> List[Tuple[str, str]]:\n",
    "    \"\"\"Generate the response from agent\"\"\"\n",
    "\n",
    "    iframe_html = '<iframe src={url} width=\"300px\" height=\"600px\"></iframe>'\n",
    "    iframe_url = \"https://app.activeloop.ai/visualizer/iframe?url=hub://genai360/walmart-images&query=\" \n",
    "\n",
    "    response = agent.stream_chat(chat_history[-1][0])\n",
    "\n",
    "    for token in response.response_gen:\n",
    "        chat_history[-1][1] += token\n",
    "\n",
    "        product_ids = reg.findall(chat_history[-1][1])        \n",
    "        if len(product_ids) >= 2:\n",
    "            query = \"select * where \" + \" or \".join([f\"contains(ids, '{x}')\" for x in product_ids])          \n",
    "            url = iframe_url + urllib.parse.quote(query)\n",
    "        else:\n",
    "            url = \"about:blank\"\n",
    "        \n",
    "        html = iframe_html.format(url=url)\n",
    "\n",
    "        yield chat_history, html\n"
   ]
  },
  {
   "cell_type": "code",
   "execution_count": 6,
   "id": "31478c7f",
   "metadata": {},
   "outputs": [],
   "source": [
    "def reset_chat(self) -> Tuple[str, str]:\n",
    "    \"\"\"Reset the agent's chat history. And clear all dialogue boxes.\"\"\"\n",
    "    # Clear agent history\n",
    "    agent.reset()\n",
    "    clean_input_image()\n",
    "\n",
    "    # Reset chat history\n",
    "    return \"\", \"\""
   ]
  },
  {
   "cell_type": "code",
   "execution_count": 7,
   "id": "ee9aad18",
   "metadata": {},
   "outputs": [],
   "source": [
    "def print_like_dislike(x: gr.LikeData):\n",
    "    logging.info(x.index, x.value, x.liked)"
   ]
  },
  {
   "cell_type": "code",
   "execution_count": 8,
   "id": "f490224c",
   "metadata": {},
   "outputs": [
    {
     "name": "stderr",
     "output_type": "stream",
     "text": [
      "/Users/rebelde/workspace/activeloop-course/.venv/lib/python3.11/site-packages/gradio/utils.py:840: UserWarning: Expected 1 arguments for function <function reset_chat at 0x16903a2a0>, received 0.\n",
      "  warnings.warn(\n",
      "/Users/rebelde/workspace/activeloop-course/.venv/lib/python3.11/site-packages/gradio/utils.py:844: UserWarning: Expected at least 1 arguments for function <function reset_chat at 0x16903a2a0>, received 0.\n",
      "  warnings.warn(\n"
     ]
    },
    {
     "name": "stdout",
     "output_type": "stream",
     "text": [
      "2023-12-17 13:47:48,625 [INFO] HTTP Request: GET https://checkip.amazonaws.com/ \"HTTP/1.1 200 OK\"\n",
      "2023-12-17 13:47:48,935 [INFO] HTTP Request: GET https://api.gradio.app/pkg-version \"HTTP/1.1 200 OK\"\n"
     ]
    }
   ],
   "source": [
    "#\n",
    "# Gradio application\n",
    "#\n",
    "with gr.Blocks(\n",
    "    title=\"Outfit Recommender ✨\",\n",
    "    css=\"#box { height: 420px; overflow-y: scroll !important} #logo { align-self: right }\",\n",
    "    theme='gradio/soft'\n",
    ") as demo:\n",
    "    #\n",
    "    # Add components\n",
    "    #\n",
    "\n",
    "    with gr.Row():\n",
    "        gr.Markdown(\n",
    "            \"\"\"\n",
    "            # Chat with your Outfit Recommender ✨\n",
    "            \"\"\",\n",
    "            elem_classes=\"center\",\n",
    "        )\n",
    "    with gr.Row():\n",
    "        chat_history = gr.Chatbot(\n",
    "            label=\"Chat\",\n",
    "            avatar_images=(\"assets/user.png\", \"assets/smith.png\"),\n",
    "            scale = 2,\n",
    "            show_copy_button=True,\n",
    "        )\n",
    "        outfit = gr.HTML(\n",
    "            \"\"\"\n",
    "            <iframe src=\"about:blank\" width=\"300px\" height=\"600px\"></iframe>\n",
    "            \"\"\"\n",
    "        )\n",
    "    with gr.Row():\n",
    "        user_message = gr.Textbox(\n",
    "            placeholder=\"Enter text and press enter, or upload an image\",\n",
    "            scale=4,\n",
    "            container=False,\n",
    "        )\n",
    "    with gr.Row():\n",
    "        btn_upload_img = gr.UploadButton(\n",
    "            \"Upload image 🖼️ \", size=\"sm\", file_types=[\"image\"]\n",
    "        )\n",
    "        btn_reset = gr.ClearButton(value=\"Reset\", size=\"sm\")\n",
    "\n",
    "    gr.Markdown(\n",
    "        \"\"\"\n",
    "        Made with ❤️ by [Tryolabs](https://tryolabs.com/)\n",
    "        \"\"\",\n",
    "        elem_classes=\"center\",\n",
    "    )\n",
    "\n",
    "\n",
    "    #\n",
    "    # Configure Event Listeners\n",
    "    #\n",
    "\n",
    "    # Add like/dislike event to the chat\n",
    "    chat_history.like(print_like_dislike, None, None)\n",
    "\n",
    "    # Handle new user message\n",
    "    new_msg_event = user_message.submit(\n",
    "        fn=handle_user_message,\n",
    "        inputs=[user_message, chat_history],\n",
    "        outputs=[user_message, chat_history],\n",
    "        show_progress=True,\n",
    "    )\n",
    "    new_msg_event.then(\n",
    "        fn=generate_response,\n",
    "        inputs=chat_history,\n",
    "        outputs=[chat_history, outfit],\n",
    "        show_progress=True,\n",
    "    )\n",
    "\n",
    "    # Handle upload file\n",
    "    new_file_event = btn_upload_img.upload(\n",
    "        fn=handle_image,\n",
    "        inputs=[btn_upload_img, chat_history],\n",
    "        outputs=[chat_history],\n",
    "        show_progress=True,\n",
    "    )\n",
    "    new_file_event.then(\n",
    "        fn=generate_response,\n",
    "        inputs=chat_history,\n",
    "        outputs=[chat_history, outfit],\n",
    "        show_progress=True,\n",
    "    )\n",
    "\n",
    "    # Handle click on reset button\n",
    "    btn_reset.click(reset_chat, None, [user_message, chat_history])"
   ]
  },
  {
   "cell_type": "code",
   "execution_count": 9,
   "id": "3dccb795",
   "metadata": {},
   "outputs": [
    {
     "name": "stdout",
     "output_type": "stream",
     "text": [
      "Running on local URL:  http://0.0.0.0:8080\n",
      "2023-12-17 13:47:49,707 [INFO] HTTP Request: GET http://localhost:8080/startup-events \"HTTP/1.1 200 OK\"\n",
      "2023-12-17 13:47:49,714 [INFO] HTTP Request: POST https://api.gradio.app/gradio-initiated-analytics/ \"HTTP/1.1 200 OK\"\n",
      "2023-12-17 13:47:49,717 [INFO] Found credentials in shared credentials file: ~/.aws/credentials\n",
      "2023-12-17 13:47:50,405 [INFO] HTTP Request: HEAD http://localhost:8080/ \"HTTP/1.1 200 OK\"\n",
      "\n",
      "To create a public link, set `share=True` in `launch()`.\n"
     ]
    },
    {
     "data": {
      "text/html": [
       "<div><iframe src=\"http://localhost:8080/\" width=\"100%\" height=\"500\" allow=\"autoplay; camera; microphone; clipboard-read; clipboard-write;\" frameborder=\"0\" allowfullscreen></iframe></div>"
      ],
      "text/plain": [
       "<IPython.core.display.HTML object>"
      ]
     },
     "metadata": {},
     "output_type": "display_data"
    },
    {
     "name": "stdout",
     "output_type": "stream",
     "text": [
      "2023-12-17 13:47:51,426 [INFO] HTTP Request: POST https://api.gradio.app/gradio-launched-telemetry/ \"HTTP/1.1 200 OK\"\n",
      "STARTING TURN 1\n",
      "---------------\n",
      "\n",
      "2023-12-17 13:48:00,299 [INFO] HTTP Request: POST https://api.openai.com/v1/chat/completions \"HTTP/1.1 200 OK\"\n",
      "Mua ha ha ha\n"
     ]
    }
   ],
   "source": [
    "# Run `gradio app.py` on the terminal\n",
    "if __name__ == \"__main__\":\n",
    "    clean_input_image()\n",
    "    demo.launch(server_name=\"0.0.0.0\", server_port=8080)"
   ]
  },
  {
   "cell_type": "code",
   "execution_count": null,
   "id": "b262bf66",
   "metadata": {},
   "outputs": [],
   "source": []
  }
 ],
 "metadata": {
  "jupytext": {
   "cell_metadata_filter": "-all",
   "main_language": "python",
   "notebook_metadata_filter": "-all"
  },
  "kernelspec": {
   "display_name": ".venv",
   "language": "python",
   "name": "python3"
  },
  "language_info": {
   "codemirror_mode": {
    "name": "ipython",
    "version": 3
   },
   "file_extension": ".py",
   "mimetype": "text/x-python",
   "name": "python",
   "nbconvert_exporter": "python",
   "pygments_lexer": "ipython3",
   "version": "3.11.5"
  }
 },
 "nbformat": 4,
 "nbformat_minor": 5
}
