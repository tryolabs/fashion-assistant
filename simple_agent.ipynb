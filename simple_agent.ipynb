{
 "cells": [
  {
   "cell_type": "code",
   "execution_count": 2,
   "id": "18e81cc0",
   "metadata": {},
   "outputs": [
    {
     "name": "stdout",
     "output_type": "stream",
     "text": [
      "Deep Lake Dataset in hub://genai360/walmart-descriptions already exists, loading from the storage\n"
     ]
    }
   ],
   "source": [
    "from llama_index.agent import OpenAIAgent\n",
    "from llama_index.llms import OpenAI\n",
    "\n",
    "from src.main import inventory_query_engine_tool, outfit_description_tool"
   ]
  },
  {
   "cell_type": "code",
   "execution_count": 3,
   "id": "056b52f5",
   "metadata": {},
   "outputs": [],
   "source": [
    "llm = OpenAI(model=\"gpt-4\", temperature=0.2)\n",
    "\n",
    "agent = OpenAIAgent.from_tools(\n",
    "    system_prompt=\"\"\"\n",
    "    You are a specialized shopping assistant.\n",
    "\n",
    "    Customers will provide you with a piece of clothing, and you will generate a matching outfit.\n",
    "\n",
    "    Always remember to ask for the user gender.\n",
    "\n",
    "    Your final answer needs to be the product_id associated with the best matching product in our inventory.\n",
    "\n",
    "    For each product of the outfit, search the inventory.\n",
    "\n",
    "    Incldue the total price of the recommended outfit.\n",
    "    \"\"\",\n",
    "    tools=[\n",
    "        inventory_query_engine_tool,\n",
    "        outfit_description_tool,\n",
    "    ],\n",
    "    llm=llm,\n",
    "    verbose=True,\n",
    ")"
   ]
  },
  {
   "cell_type": "code",
   "execution_count": 4,
   "id": "0772425e",
   "metadata": {
    "lines_to_next_cell": 0
   },
   "outputs": [
    {
     "name": "stdout",
     "output_type": "stream",
     "text": [
      "STARTING TURN 1\n",
      "---------------\n",
      "\n",
      "2023-12-17 13:42:30,182 [INFO] HTTP Request: POST https://api.openai.com/v1/chat/completions \"HTTP/1.1 200 OK\"\n",
      "Hello! How can I assist you today?\n"
     ]
    }
   ],
   "source": [
    "r = agent.chat(\"Hi\")\n",
    "print(r)"
   ]
  },
  {
   "cell_type": "code",
   "execution_count": 5,
   "id": "a96430f2",
   "metadata": {
    "lines_to_next_cell": 0
   },
   "outputs": [
    {
     "name": "stdout",
     "output_type": "stream",
     "text": [
      "STARTING TURN 1\n",
      "---------------\n",
      "\n",
      "2023-12-17 13:42:37,707 [INFO] HTTP Request: POST https://api.openai.com/v1/chat/completions \"HTTP/1.1 200 OK\"\n",
      "As a shopping assistant, I have two main tools at my disposal:\n",
      "\n",
      "1. **Inventory Query Engine Tool**: This tool helps me find specific clothing items in our inventory. I can use it to find the product_id of a product that matches a certain description.\n",
      "\n",
      "2. **Outfit Description Generator**: This tool helps me generate a complete outfit based on your gender and preferences. \n",
      "\n",
      "These tools help me provide you with personalized shopping assistance. How can I assist you further?\n"
     ]
    }
   ],
   "source": [
    "r = agent.chat(\"What are your tools?\")\n",
    "print(r)"
   ]
  },
  {
   "cell_type": "code",
   "execution_count": 6,
   "id": "4311f9b7",
   "metadata": {
    "lines_to_next_cell": 0
   },
   "outputs": [
    {
     "name": "stdout",
     "output_type": "stream",
     "text": [
      "STARTING TURN 1\n",
      "---------------\n",
      "\n",
      "2023-12-17 13:42:40,670 [INFO] HTTP Request: POST https://api.openai.com/v1/chat/completions \"HTTP/1.1 200 OK\"\n",
      "Sure, I'd be happy to help with that. Could you please tell me your gender to better assist you?\n"
     ]
    }
   ],
   "source": [
    "r = agent.chat(\"I want an outfit for a casual birthday party\")\n",
    "print(r)"
   ]
  },
  {
   "cell_type": "code",
   "execution_count": 8,
   "id": "ec0ed88b",
   "metadata": {
    "lines_to_next_cell": 0
   },
   "outputs": [
    {
     "name": "stdout",
     "output_type": "stream",
     "text": [
      "STARTING TURN 1\n",
      "---------------\n",
      "\n",
      "2023-12-17 13:43:28,675 [INFO] HTTP Request: POST https://api.openai.com/v1/chat/completions \"HTTP/1.1 200 OK\"\n",
      "=== Calling Function ===\n",
      "Calling function: generate_outfit_description with args: {\n",
      "\"gender\": \"female\",\n",
      "\"user_input\": \"casual birthday party\"\n",
      "}\n",
      "2023-12-17 13:43:35,912 [INFO] HTTP Request: POST https://api.openai.com/v1/chat/completions \"HTTP/1.1 200 OK\"\n",
      "Got output: top='' bottom='A pair of high-waisted, light wash denim jeans in a straight or slightly relaxed fit would complement the casual feel of the top while adding a touch of femininity.' shoes='Comfortable white canvas sneakers or ankle boots, depending on the weather, to keep the outfit casual yet stylish.'\n",
      "========================\n",
      "\n",
      "STARTING TURN 2\n",
      "---------------\n",
      "\n",
      "2023-12-17 13:43:38,570 [INFO] HTTP Request: POST https://api.openai.com/v1/chat/completions \"HTTP/1.1 200 OK\"\n",
      "=== Calling Function ===\n",
      "Calling function: inventory_query_engine_tool with args: {\n",
      "\"input\": \"high-waisted, light wash denim jeans\"\n",
      "}\n",
      "2023-12-17 13:43:38,985 [INFO] HTTP Request: POST https://api.openai.com/v1/embeddings \"HTTP/1.1 200 OK\"\n",
      "2023-12-17 13:43:54,237 [INFO] HTTP Request: POST https://api.openai.com/v1/chat/completions \"HTTP/1.1 200 OK\"\n",
      "Got output: {\"cloths\":[{\"name\":\"Terra & Sky Women's Plus Size High Waist Bootcut Jeans\",\"product_id\":\"2W4PNKKNW6NS\",\"price\":22.98},{\"name\":\"Jordache Women's High Rise Straight Jeans, Sizes 2-22\",\"product_id\":\"17PJXWW5WIXH\",\"price\":14.0}]}\n",
      "========================\n",
      "\n",
      "STARTING TURN 3\n",
      "---------------\n",
      "\n",
      "2023-12-17 13:43:55,408 [INFO] HTTP Request: POST https://api.openai.com/v1/chat/completions \"HTTP/1.1 200 OK\"\n",
      "=== Calling Function ===\n",
      "Calling function: inventory_query_engine_tool with args: {\n",
      "\"input\": \"white canvas sneakers\"\n",
      "}\n",
      "2023-12-17 13:43:55,710 [INFO] HTTP Request: POST https://api.openai.com/v1/embeddings \"HTTP/1.1 200 OK\"\n",
      "2023-12-17 13:44:01,189 [INFO] HTTP Request: POST https://api.openai.com/v1/chat/completions \"HTTP/1.1 200 OK\"\n",
      "Got output: {\"cloths\":[{\"name\":\"No Boundaries Women's Twin Gore Canvas Slip On Sneakers\",\"product_id\":\"0WBAXCB6QTY1\",\"price\":16.98},{\"name\":\"No Boundaries Women's High Top Canvas Lug Sneakers, Wide Width Available\",\"product_id\":\"1SR9Q8LJDHAN\",\"price\":22.98}]}\n",
      "========================\n",
      "\n",
      "STARTING TURN 4\n",
      "---------------\n",
      "\n"
     ]
    }
   ],
   "source": [
    "r = agent.chat(\"I'm a woman\")\n",
    "print(r)"
   ]
  }
 ],
 "metadata": {
  "jupytext": {
   "cell_metadata_filter": "-all",
   "main_language": "python",
   "notebook_metadata_filter": "-all"
  },
  "kernelspec": {
   "display_name": ".venv",
   "language": "python",
   "name": "python3"
  },
  "language_info": {
   "codemirror_mode": {
    "name": "ipython",
    "version": 3
   },
   "file_extension": ".py",
   "mimetype": "text/x-python",
   "name": "python",
   "nbconvert_exporter": "python",
   "pygments_lexer": "ipython3",
   "version": "3.11.5"
  }
 },
 "nbformat": 4,
 "nbformat_minor": 5
}
